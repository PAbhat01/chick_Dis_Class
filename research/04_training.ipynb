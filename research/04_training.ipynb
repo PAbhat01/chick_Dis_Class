{
 "cells": [
  {
   "cell_type": "code",
   "execution_count": 2,
   "metadata": {},
   "outputs": [
    {
     "data": {
      "text/plain": [
       "'c:\\\\Users\\\\parva\\\\OneDrive\\\\Desktop\\\\MOdel BUilding\\\\Chicken_Dissease\\\\chick_Dis_Class\\\\research'"
      ]
     },
     "execution_count": 2,
     "metadata": {},
     "output_type": "execute_result"
    }
   ],
   "source": [
    "import os\n",
    "%pwd"
   ]
  },
  {
   "cell_type": "code",
   "execution_count": 3,
   "metadata": {},
   "outputs": [
    {
     "data": {
      "text/plain": [
       "'c:\\\\Users\\\\parva\\\\OneDrive\\\\Desktop\\\\MOdel BUilding\\\\Chicken_Dissease\\\\chick_Dis_Class'"
      ]
     },
     "execution_count": 3,
     "metadata": {},
     "output_type": "execute_result"
    }
   ],
   "source": [
    "os.chdir(\"../\") # go back in directory\n",
    "%pwd"
   ]
  },
  {
   "cell_type": "code",
   "execution_count": 4,
   "metadata": {},
   "outputs": [
    {
     "data": {
      "text/plain": [
       "'c:\\\\Users\\\\parva\\\\OneDrive\\\\Desktop\\\\MOdel BUilding\\\\Chicken_Dissease\\\\chick_Dis_Class'"
      ]
     },
     "execution_count": 4,
     "metadata": {},
     "output_type": "execute_result"
    }
   ],
   "source": [
    "%pwd"
   ]
  },
  {
   "cell_type": "code",
   "execution_count": 5,
   "metadata": {},
   "outputs": [],
   "source": [
    "from dataclasses import dataclass\n",
    "from pathlib import Path\n",
    "\n",
    "# Define a frozen dataclass to hold training configuration parameters. \n",
    "# These include directories for storing models, training data, and parameters for epochs, batch size, etc.\n",
    "@dataclass(frozen=True)\n",
    "class TrainingConfig:\n",
    "    root_dir: Path\n",
    "    trained_model_path: Path\n",
    "    updated_base_model_path: Path\n",
    "    training_data: Path\n",
    "    params_epochs: int\n",
    "    params_batch_size: int\n",
    "    params_is_augmentation: bool\n",
    "    params_image_size: list\n",
    "\n",
    "# Define a dataclass to store configuration for callbacks, including directories for TensorBoard logs and model checkpoints.\n",
    "@dataclass\n",
    "class PrepareCallbacksConfig:\n",
    "    root_dir:Path\n",
    "    tensorboard_root_log_dir:Path\n",
    "    checkpoint_model_filepath:Path\n"
   ]
  },
  {
   "cell_type": "code",
   "execution_count": 6,
   "metadata": {},
   "outputs": [],
   "source": [
    "# Importing necessary modules for configuration management and utility functions.\n",
    "from cnnClassifier.constants import *\n",
    "from cnnClassifier.utils.common import read_yaml, create_directories\n",
    "import tensorflow as tf\n",
    "\n"
   ]
  },
  {
   "cell_type": "code",
   "execution_count": 7,
   "metadata": {},
   "outputs": [],
   "source": [
    "\n",
    "# Class for managing configuration of the model and training process by reading YAML configuration files.\n",
    "class ConfigurationManager:\n",
    "    def __init__(\n",
    "        self, \n",
    "        config_filepath = CONFIG_FILE_PATH,\n",
    "        params_filepath = PARAMS_FILE_PATH):\n",
    "\n",
    "        # Reading configuration and parameter YAML files and storing their content.\n",
    "        self.config = read_yaml(config_filepath)\n",
    "        self.params = read_yaml(params_filepath)\n",
    "        # Creating the necessary directories where artifacts (like models) will be saved.\n",
    "        create_directories([self.config.artifacts_root])\n",
    "\n",
    "    # Function to retrieve the configuration for preparing callbacks.\n",
    "    def get_prepare_callback_config(self) -> PrepareCallbacksConfig:\n",
    "        config = self.config.prepare_callbacks\n",
    "        model_ckpt_dir = os.path.dirname(config.checkpoint_model_filepath)\n",
    "        # Create directories for TensorBoard logs and model checkpoints.\n",
    "        create_directories([\n",
    "            Path(model_ckpt_dir),\n",
    "            Path(config.tensorboard_root_log_dir)\n",
    "        ])\n",
    "\n",
    "        # Return an instance of the PrepareCallbacksConfig dataclass with the necessary paths.\n",
    "        prepare_callback_config = PrepareCallbacksConfig(\n",
    "            root_dir=Path(config.root_dir),\n",
    "            tensorboard_root_log_dir=Path(config.tensorboard_root_log_dir),\n",
    "            checkpoint_model_filepath=Path(config.checkpoint_model_filepath)\n",
    "        )\n",
    "\n",
    "        return prepare_callback_config\n",
    "\n",
    "    # Function to retrieve the configuration for training the model.\n",
    "    def get_training_config(self) -> TrainingConfig:\n",
    "        training = self.config.training\n",
    "        prepare_base_model = self.config.prepare_base_model\n",
    "        params = self.params\n",
    "        # Path to the training data (after data ingestion).\n",
    "        training_data = os.path.join(self.config.data_ingestion.unzip_dir, \"Chicken-fecal-images\")\n",
    "        # Create the root directory for storing training artifacts.\n",
    "        create_directories([\n",
    "            Path(training.root_dir)\n",
    "        ])\n",
    "\n",
    "        # Return an instance of the TrainingConfig dataclass with the necessary paths and parameters.\n",
    "        training_config = TrainingConfig(\n",
    "            root_dir=Path(training.root_dir),\n",
    "            trained_model_path=Path(training.trained_model_path),\n",
    "            updated_base_model_path=Path(prepare_base_model.updated_base_model_path),\n",
    "            training_data=Path(training_data),\n",
    "            params_epochs=params.EPOCHS,\n",
    "            params_batch_size=params.BATCH_SIZE,\n",
    "            params_is_augmentation=params.AUGMENTATION,\n",
    "            params_image_size=params.IMAGE_SIZE\n",
    "        )\n",
    "\n",
    "        return training_config"
   ]
  },
  {
   "cell_type": "code",
   "execution_count": 8,
   "metadata": {},
   "outputs": [],
   "source": [
    "import time\n"
   ]
  },
  {
   "cell_type": "code",
   "execution_count": 9,
   "metadata": {},
   "outputs": [],
   "source": [
    "# Class for preparing the necessary callbacks (TensorBoard and ModelCheckpoint) for training.\n",
    "class PrepareCallback:\n",
    "\n",
    "    # The constructor takes a config object, which contains configurations such as log directories and checkpoint file paths.\n",
    "    def __init__(self, config: PrepareCallbacksConfig):\n",
    "        self.config = config\n",
    "\n",
    "    # Property to create a TensorBoard callback.\n",
    "    # TensorBoard helps in visualizing metrics like loss, accuracy, etc., during training.\n",
    "    @property\n",
    "    def _create_tb_callbacks(self):\n",
    "        # Create a timestamp for uniquely naming log directories for each run.\n",
    "        timestamp = time.strftime(\"%Y-%m-%d-%H-%M-%S\")\n",
    "        \n",
    "        # Define the path where the TensorBoard logs will be saved.\n",
    "        tb_running_log_dir = os.path.join(\n",
    "            self.config.tensorboard_root_log_dir,  # Root directory for TensorBoard logs.\n",
    "            f\"tb_logs_at_{timestamp}\",            # Sub-directory with the current timestamp.\n",
    "        )\n",
    "        \n",
    "        # Return a TensorBoard callback, which will write logs to the specified directory.\n",
    "        return tf.keras.callbacks.TensorBoard(log_dir=tb_running_log_dir)\n",
    "\n",
    "    # Property to create a ModelCheckpoint callback.\n",
    "    # ModelCheckpoint saves the model during training, only saving the best version of the model (based on validation metrics).\n",
    "    @property\n",
    "    def _create_ckpt_callbacks(self):\n",
    "        # Ensure that the filepath is passed as a string\n",
    "        return tf.keras.callbacks.ModelCheckpoint(\n",
    "            filepath=str(self.config.checkpoint_model_filepath),  # Convert Path to string\n",
    "            save_best_only=True\n",
    "        )\n",
    "\n",
    "    # Method to get both the TensorBoard and ModelCheckpoint callbacks.\n",
    "    def get_tb_ckpt_callbacks(self):\n",
    "        return [\n",
    "            self._create_tb_callbacks,  # TensorBoard callback.\n",
    "            self._create_ckpt_callbacks # ModelCheckpoint callback.\n",
    "        ]"
   ]
  },
  {
   "cell_type": "code",
   "execution_count": 10,
   "metadata": {},
   "outputs": [],
   "source": [
    "import os\n",
    "import urllib.request as request\n",
    "from zipfile import ZipFile\n",
    "import tensorflow as tf\n",
    "import time"
   ]
  },
  {
   "cell_type": "code",
   "execution_count": 11,
   "metadata": {},
   "outputs": [],
   "source": [
    "# Class for training the model. It includes methods to load the base model, prepare data generators, and execute the training process.\n",
    "class Training:\n",
    "    def __init__(self, config: TrainingConfig):\n",
    "        self.config = config\n",
    "    \n",
    "    # Method to load the base model from the updated base model path.\n",
    "    def get_base_model(self):\n",
    "        self.model = tf.keras.models.load_model(\n",
    "            self.config.updated_base_model_path\n",
    "        )\n",
    "    \n",
    "    # Method to prepare data generators for training and validation.\n",
    "    def train_valid_generator(self):\n",
    "\n",
    "        # Common settings for the data generator, such as rescaling and splitting data for validation.\n",
    "        datagenerator_kwargs = dict(\n",
    "            rescale = 1./255,\n",
    "            validation_split=0.20\n",
    "        )\n",
    "\n",
    "        # Settings for the flow_from_directory method used by the data generator.\n",
    "        dataflow_kwargs = dict(\n",
    "            target_size=self.config.params_image_size[:-1],\n",
    "            batch_size=self.config.params_batch_size,\n",
    "            interpolation=\"bilinear\"\n",
    "        )\n",
    "\n",
    "        # Create a validation data generator.\n",
    "        valid_datagenerator = tf.keras.preprocessing.image.ImageDataGenerator(\n",
    "            **datagenerator_kwargs\n",
    "        )\n",
    "\n",
    "        # Generate validation data from the directory.\n",
    "        self.valid_generator = valid_datagenerator.flow_from_directory(\n",
    "            directory=self.config.training_data,\n",
    "            subset=\"validation\",\n",
    "            shuffle=False,\n",
    "            **dataflow_kwargs\n",
    "        )\n",
    "\n",
    "        # Check if data augmentation is enabled, and prepare the training data generator accordingly.\n",
    "        if self.config.params_is_augmentation:\n",
    "            train_datagenerator = tf.keras.preprocessing.image.ImageDataGenerator(\n",
    "                rotation_range=40,\n",
    "                horizontal_flip=True,\n",
    "                width_shift_range=0.2,\n",
    "                height_shift_range=0.2,\n",
    "                shear_range=0.2,\n",
    "                zoom_range=0.2,\n",
    "                **datagenerator_kwargs\n",
    "            )\n",
    "        else:\n",
    "            train_datagenerator = valid_datagenerator\n",
    "\n",
    "        # Generate training data from the directory.\n",
    "        self.train_generator = train_datagenerator.flow_from_directory(\n",
    "            directory=self.config.training_data,\n",
    "            subset=\"training\",\n",
    "            shuffle=True,\n",
    "            **dataflow_kwargs\n",
    "        )\n",
    "\n",
    "    # Static method to save the trained model to a specified path.\n",
    "    @staticmethod\n",
    "    def save_model(path: Path, model: tf.keras.Model):\n",
    "       model.save(str(path))\n",
    "\n",
    "    # Method to train the model with the specified callback list (TensorBoard and ModelCheckpoint).\n",
    "    def train(self, callback_list: list):\n",
    "        self.steps_per_epoch = self.train_generator.samples // self.train_generator.batch_size\n",
    "        self.validation_steps = self.valid_generator.samples // self.valid_generator.batch_size\n",
    "\n",
    "        # Train the model using the train and validation generators, and apply the callbacks for logging and saving checkpoints.\n",
    "        self.model.fit(\n",
    "            self.train_generator,\n",
    "            epochs=self.config.params_epochs,\n",
    "            steps_per_epoch=self.steps_per_epoch,\n",
    "            validation_steps=self.validation_steps,\n",
    "            validation_data=self.valid_generator,\n",
    "            callbacks=callback_list\n",
    "        )\n",
    "\n",
    "        # Save the trained model to the specified path.\n",
    "        self.save_model(\n",
    "            path=self.config.trained_model_path,\n",
    "            model=self.model\n",
    "        )"
   ]
  },
  {
   "cell_type": "code",
   "execution_count": 12,
   "metadata": {},
   "outputs": [
    {
     "name": "stdout",
     "output_type": "stream",
     "text": [
      "[2024-09-26 12:21:29,678: INFO: common: yaml file: config\\config.yaml loaded successfully]\n",
      "[2024-09-26 12:21:29,678: INFO: common: yaml file: params.yaml loaded successfully]\n",
      "[2024-09-26 12:21:29,678: INFO: common: created directory at: artifacts]\n",
      "[2024-09-26 12:21:29,678: INFO: common: created directory at: artifacts\\prepare_callbacks\\checkpoint_dir]\n",
      "[2024-09-26 12:21:29,678: INFO: common: created directory at: artifacts\\prepare_callbacks\\tensorboard_log_dir]\n",
      "[2024-09-26 12:21:29,692: INFO: common: created directory at: artifacts\\training]\n",
      "Found 78 images belonging to 2 classes.\n",
      "Found 312 images belonging to 2 classes.\n",
      "19/19 [==============================] - 19s 1s/step - loss: 13.1294 - accuracy: 0.5099 - val_loss: 13.0830 - val_accuracy: 0.6094\n"
     ]
    },
    {
     "name": "stderr",
     "output_type": "stream",
     "text": [
      "c:\\Users\\parva\\anaconda3\\envs\\chicken\\lib\\site-packages\\keras\\src\\engine\\training.py:3000: UserWarning: You are saving your model as an HDF5 file via `model.save()`. This file format is considered legacy. We recommend using instead the native Keras format, e.g. `model.save('my_model.keras')`.\n",
      "  saving_api.save_model(\n"
     ]
    }
   ],
   "source": [
    "# Main script that initiates configuration, prepares callbacks, and starts training.\n",
    "try:\n",
    "    config = ConfigurationManager()  # Load configurations.\n",
    "    prepare_callbacks_config = config.get_prepare_callback_config()  # Get callback configurations.\n",
    "    prepare_callbacks = PrepareCallback(config=prepare_callbacks_config)  # Prepare the callback object.\n",
    "    callback_list = prepare_callbacks.get_tb_ckpt_callbacks()  # Get the list of callbacks (TensorBoard and ModelCheckpoint).\n",
    "\n",
    "    training_config = config.get_training_config()  # Get training configurations.\n",
    "    training = Training(config=training_config)  # Initialize the training class with configurations.\n",
    "    training.get_base_model()  # Load the pre-trained base model.\n",
    "    training.train_valid_generator()  # Prepare the training and validation data generators.\n",
    "    training.train(\n",
    "        callback_list=callback_list  # Start training the model with the callback list.\n",
    "    )\n",
    "\n",
    "# If any exception occurs during the execution, raise it.\n",
    "except Exception as e:\n",
    "    raise e"
   ]
  },
  {
   "cell_type": "code",
   "execution_count": 14,
   "metadata": {},
   "outputs": [],
   "source": [
    "### To check the traingin tensorboard view\n",
    "\n",
    "# in the terminal \n",
    "# tensorboard --logdir artifacts/prepar_callbacks/tensorboard_log_dir/\n",
    "# should display -> serving tensorboard on localhost .... 6000/ .... click and view the graph of training"
   ]
  },
  {
   "cell_type": "code",
   "execution_count": null,
   "metadata": {},
   "outputs": [],
   "source": []
  }
 ],
 "metadata": {
  "kernelspec": {
   "display_name": "chicken",
   "language": "python",
   "name": "python3"
  },
  "language_info": {
   "codemirror_mode": {
    "name": "ipython",
    "version": 3
   },
   "file_extension": ".py",
   "mimetype": "text/x-python",
   "name": "python",
   "nbconvert_exporter": "python",
   "pygments_lexer": "ipython3",
   "version": "3.8.19"
  }
 },
 "nbformat": 4,
 "nbformat_minor": 2
}
