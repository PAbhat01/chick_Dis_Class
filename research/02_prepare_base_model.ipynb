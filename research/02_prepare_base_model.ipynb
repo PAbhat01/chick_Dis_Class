{
 "cells": [
  {
   "cell_type": "code",
   "execution_count": 13,
   "metadata": {},
   "outputs": [
    {
     "data": {
      "text/plain": [
       "'c:\\\\Users\\\\parva\\\\OneDrive\\\\Desktop\\\\MOdel BUilding\\\\Chicken_Dissease\\\\chick_Dis_Class'"
      ]
     },
     "execution_count": 13,
     "metadata": {},
     "output_type": "execute_result"
    }
   ],
   "source": [
    "import os\n",
    "%pwd"
   ]
  },
  {
   "cell_type": "code",
   "execution_count": 2,
   "metadata": {},
   "outputs": [
    {
     "data": {
      "text/plain": [
       "'c:\\\\Users\\\\parva\\\\OneDrive\\\\Desktop\\\\MOdel BUilding\\\\Chicken_Dissease\\\\chick_Dis_Class'"
      ]
     },
     "execution_count": 2,
     "metadata": {},
     "output_type": "execute_result"
    }
   ],
   "source": [
    "os.chdir(\"../\") # go back in directory\n",
    "%pwd"
   ]
  },
  {
   "cell_type": "code",
   "execution_count": 15,
   "metadata": {},
   "outputs": [],
   "source": [
    "# the entity prepration\n",
    "\n",
    "from dataclasses import dataclass\n",
    "from pathlib import Path\n",
    "\n",
    "\n",
    "@dataclass(frozen=True)\n",
    "class PrepareBaseModelConfig:\n",
    "    root_dir: Path\n",
    "    base_model_path: Path\n",
    "    updated_base_model_path: Path\n",
    "    params_image_size: list\n",
    "    params_learning_rate: float\n",
    "    params_include_top: bool\n",
    "    params_weights: str\n",
    "    params_classes: int"
   ]
  },
  {
   "cell_type": "code",
   "execution_count": 16,
   "metadata": {},
   "outputs": [],
   "source": [
    "# setup configuration for base model training\n",
    "\n",
    "from cnnClassifier.constants import *\n",
    "from cnnClassifier.utils.common import create_directories, read_yaml\n",
    "\n"
   ]
  },
  {
   "cell_type": "code",
   "execution_count": 17,
   "metadata": {},
   "outputs": [],
   "source": [
    "\n",
    "# seutp the configuration manager for the model training so that when call we get the paths and others paramerters\n",
    "class ConfigurationManager:\n",
    "    def __init__(self, \n",
    "                 config_filepath= CONFIG_FILE_PATH,\n",
    "                 params_filepath = PARAMS_FILE_PATH):\n",
    "        self.config = config_filepath\n",
    "        self.params = params_filepath\n",
    "        create_directories([self.config.artifacts_root])   # this already has support to not create directory if it already exits\n",
    "    \n",
    "    def get_prepare_base_model_config(self) -> PrepareBaseModelConfig:\n",
    "        config = self.config.prepare_base_model\n",
    "        \n",
    "        create_directories([config.root_dir])\n",
    "\n",
    "        prepare_base_model_config = PrepareBaseModelConfig(\n",
    "            root_dir=Path(config.root_dir),\n",
    "            base_model_path=Path(config.base_model_path),\n",
    "            updated_base_model_path=Path(config.updated_base_model_path),\n",
    "            params_image_size=self.params.IMAGE_SIZE,\n",
    "            params_learning_rate=self.params.LEARNING_RATE,\n",
    "            params_include_top=self.params.INCLUDE_TOP,\n",
    "            params_weights=self.params.WEIGHTS,\n",
    "            params_classes=self.params.CLASSES\n",
    "        )\n",
    "\n",
    "        return prepare_base_model_config"
   ]
  },
  {
   "cell_type": "code",
   "execution_count": 18,
   "metadata": {},
   "outputs": [],
   "source": [
    "import os\n",
    "import urllib.request as request\n",
    "from zipfile import ZipFile\n",
    "import tensorflow as tf"
   ]
  },
  {
   "cell_type": "code",
   "execution_count": 19,
   "metadata": {},
   "outputs": [],
   "source": [
    "# Define the PrepareBaseModel class which is responsible for creating, updating, and saving a base model.\n",
    "class PrepareBaseModel:\n",
    "    def __init__(self, config: PrepareBaseModelConfig):\n",
    "        \"\"\"\n",
    "        Args:\n",
    "        - config: An instance of the PrepareBaseModelConfig class that contains the parameters required for the model.\n",
    "        \"\"\"\n",
    "        self.config = config  # Store the config for use in the class\n",
    "\n",
    "    def get_base_model(self):\n",
    "        \"\"\"\n",
    "        Create the base model using VGG16 architecture with parameters defined in the config.\n",
    "        The model is saved to the specified base model path after being created.\n",
    "        \"\"\"\n",
    "        # Create the VGG16 base model with the parameters from the config\n",
    "        self.model = tf.keras.applications.vgg16.VGG16(\n",
    "            input_shape=self.config.params_image_size,  # Shape of the input image\n",
    "            weights=self.config.params_weights,  # Pretrained weights to use (e.g., 'imagenet')\n",
    "            include_top=self.config.params_include_top  # Whether to include the top classification layer\n",
    "        )\n",
    "\n",
    "        # Save the base model after it's created\n",
    "        self.save_model(path=self.config.base_model_path, model=self.model)\n",
    "\n",
    "    @staticmethod\n",
    "    def _prepare_full_model(model, classes, freeze_all, freeze_till, learning_rate):\n",
    "        \"\"\"\n",
    "        Prepare a full model by adding a custom classification head on top of the base model and compiling it.\n",
    "        \n",
    "        Args:\n",
    "        - model: The base model to which a classification head will be added.\n",
    "        - classes: Number of output classes for the classification task.\n",
    "        - freeze_all: Whether to freeze all layers in the base model for training.\n",
    "        - freeze_till: Number of layers from the end of the model that should remain trainable (None if freezing all).\n",
    "        - learning_rate: The learning rate to use for model training.\n",
    "\n",
    "        Returns:\n",
    "        - full_model: The modified full model with a custom classification head and compilation.\n",
    "        \"\"\"\n",
    "        # Freeze layers of the base model based on the freeze_all or freeze_till parameter\n",
    "        if freeze_all:\n",
    "            for layer in model.layers:\n",
    "                model.trainable = False  # Freeze all layers\n",
    "        elif (freeze_till is not None) and (freeze_till > 0):\n",
    "            for layer in model.layers[:-freeze_till]: # freeze_till should be number of layers that are not to be trained\n",
    "                model.trainable = False  # Freeze layers until freeze_till, keeping the rest trainable\n",
    "\n",
    "        # Add a Flatten layer to convert 2D features into a 1D feature vector\n",
    "        flatten_in = tf.keras.layers.Flatten()(model.output)\n",
    "\n",
    "        # Add a Dense layer for classification with softmax activation for multi-class output\n",
    "        prediction = tf.keras.layers.Dense(\n",
    "            units=classes,  # Number of classes\n",
    "            activation=\"softmax\"  # Use softmax activation for multi-class classification\n",
    "        )(flatten_in)\n",
    "\n",
    "        # Create the full model by combining the base model with the new prediction layer\n",
    "        full_model = tf.keras.models.Model(\n",
    "            inputs=model.input,  # Input from the base model\n",
    "            outputs=prediction  # Output from the new Dense layer\n",
    "        )\n",
    "\n",
    "        # Compile the model with SGD optimizer and categorical cross-entropy loss\n",
    "        full_model.compile(\n",
    "            optimizer=tf.keras.optimizers.SGD(learning_rate=learning_rate),  # Use Stochastic Gradient Descent\n",
    "            loss=tf.keras.losses.CategoricalCrossentropy(),  # Loss for multi-class classification\n",
    "            metrics=[\"accuracy\"]  # Track accuracy as the performance metric\n",
    "        )\n",
    "\n",
    "        full_model.summary()  # Print a summary of the model architecture\n",
    "        return full_model  # Return the complete model\n",
    "\n",
    "    def update_base_model(self):\n",
    "        \"\"\"\n",
    "        Update the base model by adding a classification head and freezing all layers.\n",
    "        The updated model is saved to the specified path.\n",
    "        \"\"\"\n",
    "        # Prepare the full model with the classification head and freeze all layers\n",
    "        self.full_model = self._prepare_full_model(\n",
    "            model=self.model,\n",
    "            classes=self.config.params_classes,  # Number of output classes\n",
    "            freeze_all=True,  # Freeze all layers in the base model\n",
    "            freeze_till=None,  # No layers left trainable\n",
    "            learning_rate=self.config.params_learning_rate  # Learning rate for training\n",
    "        )\n",
    "\n",
    "        # Save the updated model\n",
    "        self.save_model(path=self.config.updated_base_model_path, model=self.full_model)\n",
    "\n",
    "    @staticmethod\n",
    "    def save_model(path: Path, model: tf.keras.Model):\n",
    "        \"\"\"\n",
    "        Save the given model to the specified path.\n",
    "\n",
    "        Args:\n",
    "        - path: The file path where the model should be saved.\n",
    "        - model: The TensorFlow model to be saved.\n",
    "        \"\"\"\n",
    "        model.save(path)  # Save the model to the path\n"
   ]
  },
  {
   "cell_type": "code",
   "execution_count": 20,
   "metadata": {},
   "outputs": [
    {
     "ename": "AttributeError",
     "evalue": "'WindowsPath' object has no attribute 'artifacts_root'",
     "output_type": "error",
     "traceback": [
      "\u001b[1;31m---------------------------------------------------------------------------\u001b[0m",
      "\u001b[1;31mAttributeError\u001b[0m                            Traceback (most recent call last)",
      "Cell \u001b[1;32mIn[20], line 11\u001b[0m\n\u001b[0;32m      8\u001b[0m     prepare_base_model\u001b[38;5;241m.\u001b[39mupdate_base_model() \u001b[38;5;66;03m# will udpate the model and save it to updated model path\u001b[39;00m\n\u001b[0;32m     10\u001b[0m \u001b[38;5;28;01mexcept\u001b[39;00m \u001b[38;5;167;01mException\u001b[39;00m \u001b[38;5;28;01mas\u001b[39;00m e:\n\u001b[1;32m---> 11\u001b[0m     \u001b[38;5;28;01mraise\u001b[39;00m e\n",
      "Cell \u001b[1;32mIn[20], line 4\u001b[0m\n\u001b[0;32m      1\u001b[0m \u001b[38;5;66;03m# create pipeline\u001b[39;00m\n\u001b[0;32m      3\u001b[0m \u001b[38;5;28;01mtry\u001b[39;00m:\n\u001b[1;32m----> 4\u001b[0m     config \u001b[38;5;241m=\u001b[39m \u001b[43mConfigurationManager\u001b[49m\u001b[43m(\u001b[49m\u001b[43m)\u001b[49m\n\u001b[0;32m      5\u001b[0m     prepare_base_model_config \u001b[38;5;241m=\u001b[39m config\u001b[38;5;241m.\u001b[39mget_prepare_base_model_config()\n\u001b[0;32m      6\u001b[0m     prepare_base_model \u001b[38;5;241m=\u001b[39m PrepareBaseModel(config\u001b[38;5;241m=\u001b[39mprepare_base_model_config)\n",
      "Cell \u001b[1;32mIn[17], line 8\u001b[0m, in \u001b[0;36mConfigurationManager.__init__\u001b[1;34m(self, config_filepath, params_filepath)\u001b[0m\n\u001b[0;32m      6\u001b[0m \u001b[38;5;28mself\u001b[39m\u001b[38;5;241m.\u001b[39mconfig \u001b[38;5;241m=\u001b[39m config_filepath\n\u001b[0;32m      7\u001b[0m \u001b[38;5;28mself\u001b[39m\u001b[38;5;241m.\u001b[39mparams \u001b[38;5;241m=\u001b[39m params_filepath\n\u001b[1;32m----> 8\u001b[0m create_directories([\u001b[38;5;28;43mself\u001b[39;49m\u001b[38;5;241;43m.\u001b[39;49m\u001b[43mconfig\u001b[49m\u001b[38;5;241;43m.\u001b[39;49m\u001b[43martifacts_root\u001b[49m])\n",
      "\u001b[1;31mAttributeError\u001b[0m: 'WindowsPath' object has no attribute 'artifacts_root'"
     ]
    }
   ],
   "source": [
    "# create pipeline\n",
    "\n",
    "try:\n",
    "    config = ConfigurationManager()\n",
    "    prepare_base_model_config = config.get_prepare_base_model_config()\n",
    "    prepare_base_model = PrepareBaseModel(config=prepare_base_model_config)\n",
    "    prepare_base_model.get_base_model()\n",
    "    prepare_base_model.update_base_model() # will udpate the model and save it to updated model path\n",
    "    \n",
    "except Exception as e:\n",
    "    raise e"
   ]
  },
  {
   "cell_type": "code",
   "execution_count": null,
   "metadata": {},
   "outputs": [],
   "source": []
  },
  {
   "cell_type": "code",
   "execution_count": null,
   "metadata": {},
   "outputs": [],
   "source": []
  },
  {
   "cell_type": "code",
   "execution_count": null,
   "metadata": {},
   "outputs": [],
   "source": []
  },
  {
   "cell_type": "code",
   "execution_count": null,
   "metadata": {},
   "outputs": [],
   "source": []
  }
 ],
 "metadata": {
  "kernelspec": {
   "display_name": "chicken",
   "language": "python",
   "name": "python3"
  },
  "language_info": {
   "codemirror_mode": {
    "name": "ipython",
    "version": 3
   },
   "file_extension": ".py",
   "mimetype": "text/x-python",
   "name": "python",
   "nbconvert_exporter": "python",
   "pygments_lexer": "ipython3",
   "version": "3.8.19"
  }
 },
 "nbformat": 4,
 "nbformat_minor": 2
}
